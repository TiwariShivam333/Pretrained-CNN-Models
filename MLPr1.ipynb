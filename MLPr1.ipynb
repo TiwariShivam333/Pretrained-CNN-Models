{
  "nbformat": 4,
  "nbformat_minor": 0,
  "metadata": {
    "colab": {
      "name": "MLPr1.ipynb",
      "version": "0.3.2",
      "provenance": [],
      "collapsed_sections": []
    },
    "kernelspec": {
      "name": "python3",
      "display_name": "Python 3"
    },
    "accelerator": "GPU"
  },
  "cells": [
    {
      "metadata": {
        "id": "VhVmodrjMbxW",
        "colab_type": "code",
        "colab": {}
      },
      "cell_type": "code",
      "source": [
        "import keras\n",
        "from keras.models import Sequential\n",
        "from keras.utils import np_utils\n",
        "from keras.preprocessing.image import ImageDataGenerator\n",
        "from keras.layers import Dense, Activation, Flatten, Dropout, BatchNormalization\n",
        "from keras.layers import Conv2D, MaxPooling2D\n",
        "from keras.datasets import cifar10\n",
        "from keras import regularizers\n",
        "from keras.callbacks import LearningRateScheduler\n",
        "import numpy as np\n",
        "import scipy.io"
      ],
      "execution_count": 0,
      "outputs": []
    },
    {
      "metadata": {
        "id": "9Zi_jsY7XpZP",
        "colab_type": "code",
        "colab": {
          "base_uri": "https://localhost:8080/",
          "height": 55
        },
        "outputId": "9d200bc4-fecc-4822-b450-3be48ef4fa2c"
      },
      "cell_type": "code",
      "source": [
        "from google.colab import drive\n",
        "drive.mount('/content/gdrive/')"
      ],
      "execution_count": 3,
      "outputs": [
        {
          "output_type": "stream",
          "text": [
            "Drive already mounted at /content/gdrive/; to attempt to forcibly remount, call drive.mount(\"/content/gdrive/\", force_remount=True).\n"
          ],
          "name": "stdout"
        }
      ]
    },
    {
      "metadata": {
        "id": "HBQ-pIXgXX-f",
        "colab_type": "code",
        "colab": {}
      },
      "cell_type": "code",
      "source": [
        "from scipy.io import loadmat\n",
        "\n",
        "train = loadmat('gdrive/My Drive/train_32x32.mat')\n",
        "test = loadmat('gdrive/My Drive/train_32x32.mat')\n",
        "\n",
        "\n",
        "X_train = train['X']\n",
        "y_train = train['y']\n",
        "X_test = test['X']\n",
        "y_test = test['y']\n"
      ],
      "execution_count": 0,
      "outputs": []
    },
    {
      "metadata": {
        "id": "l7oYOWeO1VbE",
        "colab_type": "code",
        "colab": {
          "base_uri": "https://localhost:8080/",
          "height": 89
        },
        "outputId": "75b44e98-899b-4f72-da99-7467fdcc346c"
      },
      "cell_type": "code",
      "source": [
        "print(\"Shape of X_train is:\", X_train.shape)\n",
        "print(\"Shape of y_train is:\", y_train.shape)\n",
        "print(\"Shape of X_test is:\", X_test.shape)\n",
        "print(\"Shape of y_test is:\", y_test.shape)"
      ],
      "execution_count": 23,
      "outputs": [
        {
          "output_type": "stream",
          "text": [
            "Shape of X_train is: (32, 32, 3, 73257)\n",
            "Shape of y_train is: (73257, 1)\n",
            "Shape of X_test is: (32, 32, 3, 73257)\n",
            "Shape of y_test is: (73257, 1)\n"
          ],
          "name": "stdout"
        }
      ]
    },
    {
      "metadata": {
        "id": "vRrcdsxn1oHT",
        "colab_type": "code",
        "colab": {
          "base_uri": "https://localhost:8080/",
          "height": 125
        },
        "outputId": "2d2cf6dd-81bd-4ed2-fb39-ffbc50376412"
      },
      "cell_type": "code",
      "source": [
        "X_train = X_train.transpose((3,0,1,2))\n",
        "X_test = X_test.transpose((3,0,1,2))\n",
        "\n",
        "print(\"Shape of X_train is now:\", X_train.shape)\n",
        "print(\"Shape of X_test is now:\", X_test.shape)\n",
        "\n",
        "y_train = y_train[:,0]\n",
        "y_test = y_test[:,0]\n",
        "\n",
        "print(\"Shape of y_train is now:\", y_train.shape)\n",
        "print(\"Shape of y_test is now:\", y_test.shape)\n",
        "\n",
        "y_train[y_train==10] = 0\n",
        "y_test[y_test==10] = 0\n",
        "\n",
        "print(\"labels of y_train are\", np.unique(y_train[:]))\n",
        "print(\"labels of y_test are\", np.unique(y_test[:]))"
      ],
      "execution_count": 24,
      "outputs": [
        {
          "output_type": "stream",
          "text": [
            "Shape of X_train is now: (73257, 32, 32, 3)\n",
            "Shape of X_test is now: (73257, 32, 32, 3)\n",
            "Shape of y_train is now: (73257,)\n",
            "Shape of y_test is now: (73257,)\n",
            "labels of y_train are [0 1 2 3 4 5 6 7 8 9]\n",
            "labels of y_test are [0 1 2 3 4 5 6 7 8 9]\n"
          ],
          "name": "stdout"
        }
      ]
    },
    {
      "metadata": {
        "id": "f081_rVe4nP5",
        "colab_type": "code",
        "colab": {
          "base_uri": "https://localhost:8080/",
          "height": 35
        },
        "outputId": "ea09a4e0-b5c9-4456-ebb8-b2f4a7da5a25"
      },
      "cell_type": "code",
      "source": [
        "X_train = X_train / 255\n",
        "X_test = X_test / 255\n",
        "print(y_train)"
      ],
      "execution_count": 29,
      "outputs": [
        {
          "output_type": "stream",
          "text": [
            "[1 9 2 ... 1 6 9]\n"
          ],
          "name": "stdout"
        }
      ]
    },
    {
      "metadata": {
        "id": "dWL36cV54n9R",
        "colab_type": "code",
        "colab": {
          "base_uri": "https://localhost:8080/",
          "height": 575
        },
        "outputId": "f073abe5-1784-4447-e713-41bc589d68fe"
      },
      "cell_type": "code",
      "source": [
        "from tensorflow.keras.models import Sequential\n",
        "from tensorflow.keras.layers import Conv2D\n",
        "from tensorflow.keras.layers import MaxPooling2D\n",
        "from tensorflow.keras.layers import Flatten\n",
        "from tensorflow.keras.layers import Dense\n",
        "from tensorflow.keras.layers import Dropout\n",
        "\n",
        "\n",
        "model = Sequential([\n",
        "    Conv2D(32, (3,3), activation='relu', input_shape=(32, 32, 3)),\n",
        "    Conv2D(32, (3,3), activation='relu'),\n",
        "    MaxPooling2D(2, 2),\n",
        "    Dropout(0.3),\n",
        "    Conv2D(64, (3,3), activation='relu'),\n",
        "    Conv2D(64, (3,3), activation='relu'),\n",
        "    MaxPooling2D(2, 2),\n",
        "    Dropout(0.3),\n",
        "    Flatten(),\n",
        "    Dense(512, activation='relu'),\n",
        "    Dropout(0.3),\n",
        "    Dense(10, activation='softmax')\n",
        "])\n",
        "\n",
        "# get a summary of our built model\n",
        "model.summary()\n"
      ],
      "execution_count": 16,
      "outputs": [
        {
          "output_type": "stream",
          "text": [
            "_________________________________________________________________\n",
            "Layer (type)                 Output Shape              Param #   \n",
            "=================================================================\n",
            "conv2d_4 (Conv2D)            (None, 30, 30, 32)        896       \n",
            "_________________________________________________________________\n",
            "conv2d_5 (Conv2D)            (None, 28, 28, 32)        9248      \n",
            "_________________________________________________________________\n",
            "max_pooling2d_2 (MaxPooling2 (None, 14, 14, 32)        0         \n",
            "_________________________________________________________________\n",
            "dropout_3 (Dropout)          (None, 14, 14, 32)        0         \n",
            "_________________________________________________________________\n",
            "conv2d_6 (Conv2D)            (None, 12, 12, 64)        18496     \n",
            "_________________________________________________________________\n",
            "conv2d_7 (Conv2D)            (None, 10, 10, 64)        36928     \n",
            "_________________________________________________________________\n",
            "max_pooling2d_3 (MaxPooling2 (None, 5, 5, 64)          0         \n",
            "_________________________________________________________________\n",
            "dropout_4 (Dropout)          (None, 5, 5, 64)          0         \n",
            "_________________________________________________________________\n",
            "flatten_1 (Flatten)          (None, 1600)              0         \n",
            "_________________________________________________________________\n",
            "dense_2 (Dense)              (None, 512)               819712    \n",
            "_________________________________________________________________\n",
            "dropout_5 (Dropout)          (None, 512)               0         \n",
            "_________________________________________________________________\n",
            "dense_3 (Dense)              (None, 10)                5130      \n",
            "=================================================================\n",
            "Total params: 890,410\n",
            "Trainable params: 890,410\n",
            "Non-trainable params: 0\n",
            "_________________________________________________________________\n"
          ],
          "name": "stdout"
        }
      ]
    },
    {
      "metadata": {
        "id": "kpeYxt0k4rsT",
        "colab_type": "code",
        "colab": {
          "base_uri": "https://localhost:8080/",
          "height": 1493
        },
        "outputId": "f7ce5565-82af-4db6-dc98-ac91b6bdec50"
      },
      "cell_type": "code",
      "source": [
        "model.compile(optimizer='adam',loss='sparse_categorical_crossentropy',metrics=['accuracy'])\n",
        "model.fit(X_train, y_train, epochs=40)\n",
        "loss, acc = model.evaluate(X_test, y_test)\n",
        "print(\"Model accuracy on test data is: {:6.3f}%\".format(100 * acc))\n",
        "model.save('my_model.h5')"
      ],
      "execution_count": 17,
      "outputs": [
        {
          "output_type": "stream",
          "text": [
            "Epoch 1/40\n",
            "73257/73257 [==============================] - 22s 297us/sample - loss: 1.1614 - acc: 0.6030\n",
            "Epoch 2/40\n",
            "73257/73257 [==============================] - 15s 203us/sample - loss: 0.4672 - acc: 0.8575\n",
            "Epoch 3/40\n",
            "73257/73257 [==============================] - 15s 200us/sample - loss: 0.4007 - acc: 0.8791\n",
            "Epoch 4/40\n",
            "73257/73257 [==============================] - 15s 198us/sample - loss: 0.3639 - acc: 0.8909\n",
            "Epoch 5/40\n",
            "73257/73257 [==============================] - 16s 213us/sample - loss: 0.3393 - acc: 0.8978\n",
            "Epoch 6/40\n",
            "73257/73257 [==============================] - 15s 199us/sample - loss: 0.3172 - acc: 0.9046\n",
            "Epoch 7/40\n",
            "73257/73257 [==============================] - 15s 199us/sample - loss: 0.3009 - acc: 0.9091\n",
            "Epoch 8/40\n",
            "73257/73257 [==============================] - 14s 197us/sample - loss: 0.2895 - acc: 0.9124\n",
            "Epoch 9/40\n",
            "73257/73257 [==============================] - 15s 198us/sample - loss: 0.2845 - acc: 0.9136\n",
            "Epoch 10/40\n",
            "73257/73257 [==============================] - 15s 201us/sample - loss: 0.2704 - acc: 0.9176\n",
            "Epoch 11/40\n",
            "73257/73257 [==============================] - 15s 207us/sample - loss: 0.2616 - acc: 0.9204\n",
            "Epoch 12/40\n",
            "73257/73257 [==============================] - 14s 196us/sample - loss: 0.2538 - acc: 0.9229\n",
            "Epoch 13/40\n",
            "73257/73257 [==============================] - 14s 196us/sample - loss: 0.2466 - acc: 0.9252\n",
            "Epoch 14/40\n",
            "73257/73257 [==============================] - 14s 195us/sample - loss: 0.2418 - acc: 0.9272\n",
            "Epoch 15/40\n",
            "73257/73257 [==============================] - 15s 200us/sample - loss: 0.2363 - acc: 0.9277\n",
            "Epoch 16/40\n",
            "73257/73257 [==============================] - 16s 224us/sample - loss: 0.2312 - acc: 0.9300\n",
            "Epoch 17/40\n",
            "73257/73257 [==============================] - 14s 196us/sample - loss: 0.2239 - acc: 0.9316\n",
            "Epoch 18/40\n",
            "73257/73257 [==============================] - 14s 195us/sample - loss: 0.2196 - acc: 0.9330\n",
            "Epoch 19/40\n",
            "73257/73257 [==============================] - 14s 196us/sample - loss: 0.2168 - acc: 0.9344\n",
            "Epoch 20/40\n",
            "73257/73257 [==============================] - 14s 195us/sample - loss: 0.2125 - acc: 0.9357\n",
            "Epoch 21/40\n",
            "73257/73257 [==============================] - 15s 202us/sample - loss: 0.2080 - acc: 0.9359\n",
            "Epoch 22/40\n",
            "73257/73257 [==============================] - 15s 207us/sample - loss: 0.2047 - acc: 0.9364\n",
            "Epoch 23/40\n",
            "73257/73257 [==============================] - 14s 195us/sample - loss: 0.2036 - acc: 0.9374\n",
            "Epoch 24/40\n",
            "73257/73257 [==============================] - 14s 195us/sample - loss: 0.2016 - acc: 0.9374\n",
            "Epoch 25/40\n",
            "73257/73257 [==============================] - 14s 195us/sample - loss: 0.1955 - acc: 0.9404\n",
            "Epoch 26/40\n",
            "73257/73257 [==============================] - 14s 196us/sample - loss: 0.1947 - acc: 0.9399\n",
            "Epoch 27/40\n",
            "73257/73257 [==============================] - 16s 212us/sample - loss: 0.1933 - acc: 0.9410\n",
            "Epoch 28/40\n",
            "73257/73257 [==============================] - 14s 195us/sample - loss: 0.1892 - acc: 0.9426\n",
            "Epoch 29/40\n",
            "73257/73257 [==============================] - 14s 195us/sample - loss: 0.1896 - acc: 0.9415\n",
            "Epoch 30/40\n",
            "73257/73257 [==============================] - 14s 196us/sample - loss: 0.1849 - acc: 0.9436\n",
            "Epoch 31/40\n",
            "73257/73257 [==============================] - 14s 195us/sample - loss: 0.1871 - acc: 0.9424\n",
            "Epoch 32/40\n",
            "73257/73257 [==============================] - 15s 199us/sample - loss: 0.1789 - acc: 0.9447\n",
            "Epoch 33/40\n",
            "73257/73257 [==============================] - 15s 208us/sample - loss: 0.1830 - acc: 0.9438\n",
            "Epoch 34/40\n",
            "73257/73257 [==============================] - 14s 196us/sample - loss: 0.1797 - acc: 0.9449\n",
            "Epoch 35/40\n",
            "73257/73257 [==============================] - 14s 195us/sample - loss: 0.1738 - acc: 0.9460\n",
            "Epoch 36/40\n",
            "73257/73257 [==============================] - 14s 195us/sample - loss: 0.1753 - acc: 0.9463\n",
            "Epoch 37/40\n",
            "73257/73257 [==============================] - 16s 217us/sample - loss: 0.1758 - acc: 0.9465\n",
            "Epoch 38/40\n",
            "73257/73257 [==============================] - 15s 210us/sample - loss: 0.1686 - acc: 0.9482\n",
            "Epoch 39/40\n",
            "73257/73257 [==============================] - 14s 193us/sample - loss: 0.1720 - acc: 0.9473\n",
            "Epoch 40/40\n",
            "73257/73257 [==============================] - 14s 194us/sample - loss: 0.1724 - acc: 0.9472\n",
            "73257/73257 [==============================] - 7s 91us/sample - loss: 0.0824 - acc: 0.9818\n",
            "Model accuracy on test data is: 98.184%\n"
          ],
          "name": "stdout"
        }
      ]
    },
    {
      "metadata": {
        "id": "-j3AwdN5eZ_Z",
        "colab_type": "code",
        "colab": {}
      },
      "cell_type": "code",
      "source": [
        "import tensorflow as tf \n",
        "new_model = tf.keras.models.load_model('my_model.h5')"
      ],
      "execution_count": 0,
      "outputs": []
    },
    {
      "metadata": {
        "id": "j_Hprh4feJ-P",
        "colab_type": "code",
        "colab": {
          "base_uri": "https://localhost:8080/",
          "height": 35
        },
        "outputId": "5d42ead1-df70-4acd-d893-3ff2eb373dff"
      },
      "cell_type": "code",
      "source": [
        "(x_train, y_train), (x_test, y_test) = cifar10.load_data()\n",
        "x_train = x_train.astype('float32')\n",
        "x_test = x_test.astype('float32')\n",
        "\n",
        "#z-score\n",
        "mean = np.mean(x_train,axis=(0,1,2,3))\n",
        "std = np.std(x_train,axis=(0,1,2,3))\n",
        "x_train = (x_train-mean)/(std+1e-7)\n",
        "x_test = (x_test-mean)/(std+1e-7)\n",
        "y_train = y_train[:,0]\n",
        "y_test = y_test[:,0]\n",
        "print(y_train.shape)\n",
        "#num_classes = 10\n",
        "#y_train = np_utils.to_categorical(y_train,num_classes)\n",
        "#y_test = np_utils.to_categorical(y_test,num_classes)"
      ],
      "execution_count": 37,
      "outputs": [
        {
          "output_type": "stream",
          "text": [
            "(50000,)\n"
          ],
          "name": "stdout"
        }
      ]
    },
    {
      "metadata": {
        "id": "OOmFyFsweSAD",
        "colab_type": "code",
        "colab": {
          "base_uri": "https://localhost:8080/",
          "height": 2213
        },
        "outputId": "f0053164-0354-4af7-dcd2-545e18d2e8db"
      },
      "cell_type": "code",
      "source": [
        "new_model.compile(optimizer='adam',loss='sparse_categorical_crossentropy',metrics=['accuracy'])\n",
        "new_model.fit(x_train, y_train, epochs=60)\n",
        "loss, acc = new_model.evaluate(x_test, y_test)\n",
        "print(\"Model accuracy on test data is: {:6.3f}%\".format(100 * acc))"
      ],
      "execution_count": 40,
      "outputs": [
        {
          "output_type": "stream",
          "text": [
            "Epoch 1/60\n",
            "50000/50000 [==============================] - 10s 205us/sample - loss: 0.5720 - acc: 0.8048\n",
            "Epoch 2/60\n",
            "50000/50000 [==============================] - 10s 195us/sample - loss: 0.5773 - acc: 0.8029\n",
            "Epoch 3/60\n",
            "50000/50000 [==============================] - 11s 218us/sample - loss: 0.5828 - acc: 0.8003\n",
            "Epoch 4/60\n",
            "50000/50000 [==============================] - 10s 194us/sample - loss: 0.5620 - acc: 0.8068\n",
            "Epoch 5/60\n",
            "50000/50000 [==============================] - 10s 195us/sample - loss: 0.5551 - acc: 0.8086\n",
            "Epoch 6/60\n",
            "50000/50000 [==============================] - 10s 195us/sample - loss: 0.5625 - acc: 0.8053\n",
            "Epoch 7/60\n",
            "50000/50000 [==============================] - 10s 194us/sample - loss: 0.5629 - acc: 0.8069\n",
            "Epoch 8/60\n",
            "50000/50000 [==============================] - 10s 194us/sample - loss: 0.5645 - acc: 0.8065\n",
            "Epoch 9/60\n",
            "50000/50000 [==============================] - 10s 194us/sample - loss: 0.5630 - acc: 0.8073\n",
            "Epoch 10/60\n",
            "50000/50000 [==============================] - 10s 195us/sample - loss: 0.5630 - acc: 0.8070\n",
            "Epoch 11/60\n",
            "50000/50000 [==============================] - 11s 213us/sample - loss: 0.5524 - acc: 0.8096\n",
            "Epoch 12/60\n",
            "50000/50000 [==============================] - 10s 197us/sample - loss: 0.5559 - acc: 0.8100\n",
            "Epoch 13/60\n",
            "50000/50000 [==============================] - 10s 198us/sample - loss: 0.5454 - acc: 0.8128\n",
            "Epoch 14/60\n",
            "50000/50000 [==============================] - 10s 194us/sample - loss: 0.5478 - acc: 0.8124\n",
            "Epoch 15/60\n",
            "50000/50000 [==============================] - 10s 195us/sample - loss: 0.5404 - acc: 0.8148\n",
            "Epoch 16/60\n",
            "50000/50000 [==============================] - 10s 195us/sample - loss: 0.5406 - acc: 0.8131\n",
            "Epoch 17/60\n",
            "50000/50000 [==============================] - 10s 195us/sample - loss: 0.5370 - acc: 0.8149\n",
            "Epoch 18/60\n",
            "50000/50000 [==============================] - 10s 196us/sample - loss: 0.5412 - acc: 0.8134\n",
            "Epoch 19/60\n",
            "50000/50000 [==============================] - 11s 212us/sample - loss: 0.5395 - acc: 0.8136\n",
            "Epoch 20/60\n",
            "50000/50000 [==============================] - 10s 202us/sample - loss: 0.5408 - acc: 0.8145\n",
            "Epoch 21/60\n",
            "50000/50000 [==============================] - 10s 194us/sample - loss: 0.5355 - acc: 0.8158\n",
            "Epoch 22/60\n",
            "50000/50000 [==============================] - 10s 208us/sample - loss: 0.5429 - acc: 0.8133\n",
            "Epoch 23/60\n",
            "50000/50000 [==============================] - 10s 194us/sample - loss: 0.5338 - acc: 0.8179\n",
            "Epoch 24/60\n",
            "50000/50000 [==============================] - 10s 194us/sample - loss: 0.5287 - acc: 0.8189\n",
            "Epoch 25/60\n",
            "50000/50000 [==============================] - 10s 203us/sample - loss: 0.5357 - acc: 0.8156\n",
            "Epoch 26/60\n",
            "50000/50000 [==============================] - 11s 217us/sample - loss: 0.5296 - acc: 0.8167\n",
            "Epoch 27/60\n",
            "50000/50000 [==============================] - 11s 213us/sample - loss: 0.5236 - acc: 0.8205\n",
            "Epoch 28/60\n",
            "50000/50000 [==============================] - 10s 199us/sample - loss: 0.5260 - acc: 0.8194\n",
            "Epoch 29/60\n",
            "50000/50000 [==============================] - 10s 193us/sample - loss: 0.5191 - acc: 0.8211\n",
            "Epoch 30/60\n",
            "50000/50000 [==============================] - 10s 194us/sample - loss: 0.5286 - acc: 0.8182\n",
            "Epoch 31/60\n",
            "50000/50000 [==============================] - 10s 194us/sample - loss: 0.5173 - acc: 0.8224\n",
            "Epoch 32/60\n",
            "50000/50000 [==============================] - 10s 193us/sample - loss: 0.5183 - acc: 0.8229\n",
            "Epoch 33/60\n",
            "50000/50000 [==============================] - 10s 193us/sample - loss: 0.5225 - acc: 0.8201\n",
            "Epoch 34/60\n",
            "50000/50000 [==============================] - 10s 194us/sample - loss: 0.5216 - acc: 0.8229\n",
            "Epoch 35/60\n",
            "50000/50000 [==============================] - 10s 208us/sample - loss: 0.5055 - acc: 0.8251\n",
            "Epoch 36/60\n",
            "50000/50000 [==============================] - 10s 203us/sample - loss: 0.5168 - acc: 0.8219\n",
            "Epoch 37/60\n",
            "50000/50000 [==============================] - 10s 196us/sample - loss: 0.5118 - acc: 0.8233\n",
            "Epoch 38/60\n",
            "50000/50000 [==============================] - 10s 192us/sample - loss: 0.5090 - acc: 0.8272\n",
            "Epoch 39/60\n",
            "50000/50000 [==============================] - 10s 193us/sample - loss: 0.5075 - acc: 0.8261\n",
            "Epoch 40/60\n",
            "50000/50000 [==============================] - 10s 194us/sample - loss: 0.5141 - acc: 0.8258\n",
            "Epoch 41/60\n",
            "50000/50000 [==============================] - 10s 193us/sample - loss: 0.5092 - acc: 0.8244\n",
            "Epoch 42/60\n",
            "50000/50000 [==============================] - 10s 194us/sample - loss: 0.5005 - acc: 0.8288\n",
            "Epoch 43/60\n",
            "50000/50000 [==============================] - 10s 203us/sample - loss: 0.5046 - acc: 0.8297\n",
            "Epoch 44/60\n",
            "50000/50000 [==============================] - 10s 207us/sample - loss: 0.4936 - acc: 0.8298\n",
            "Epoch 45/60\n",
            "50000/50000 [==============================] - 10s 192us/sample - loss: 0.5076 - acc: 0.8271\n",
            "Epoch 46/60\n",
            "50000/50000 [==============================] - 10s 193us/sample - loss: 0.4970 - acc: 0.8303\n",
            "Epoch 47/60\n",
            "50000/50000 [==============================] - 10s 193us/sample - loss: 0.5057 - acc: 0.8280\n",
            "Epoch 48/60\n",
            "50000/50000 [==============================] - 10s 192us/sample - loss: 0.5070 - acc: 0.8298\n",
            "Epoch 49/60\n",
            "50000/50000 [==============================] - 10s 193us/sample - loss: 0.5055 - acc: 0.8282\n",
            "Epoch 50/60\n",
            "50000/50000 [==============================] - 10s 193us/sample - loss: 0.4985 - acc: 0.8307\n",
            "Epoch 51/60\n",
            "50000/50000 [==============================] - 10s 197us/sample - loss: 0.4936 - acc: 0.8319\n",
            "Epoch 52/60\n",
            "50000/50000 [==============================] - 11s 213us/sample - loss: 0.4970 - acc: 0.8318\n",
            "Epoch 53/60\n",
            "50000/50000 [==============================] - 10s 207us/sample - loss: 0.4906 - acc: 0.8330\n",
            "Epoch 54/60\n",
            "50000/50000 [==============================] - 10s 195us/sample - loss: 0.4991 - acc: 0.8312\n",
            "Epoch 55/60\n",
            "50000/50000 [==============================] - 10s 196us/sample - loss: 0.4857 - acc: 0.8353\n",
            "Epoch 56/60\n",
            "50000/50000 [==============================] - 10s 195us/sample - loss: 0.5016 - acc: 0.8308\n",
            "Epoch 57/60\n",
            "50000/50000 [==============================] - 11s 227us/sample - loss: 0.4832 - acc: 0.8365\n",
            "Epoch 58/60\n",
            "50000/50000 [==============================] - 10s 196us/sample - loss: 0.4780 - acc: 0.8369\n",
            "Epoch 59/60\n",
            "50000/50000 [==============================] - 10s 201us/sample - loss: 0.4812 - acc: 0.8370\n",
            "Epoch 60/60\n",
            "50000/50000 [==============================] - 11s 213us/sample - loss: 0.4918 - acc: 0.8339\n",
            "10000/10000 [==============================] - 1s 110us/sample - loss: 0.7472 - acc: 0.7656\n",
            "Model accuracy on test data is: 76.560%\n"
          ],
          "name": "stdout"
        }
      ]
    }
  ]
}